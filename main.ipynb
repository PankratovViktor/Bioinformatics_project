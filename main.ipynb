{
 "cells": [
  {
   "cell_type": "code",
   "execution_count": 1,
   "id": "3aa19031",
   "metadata": {
    "scrolled": true
   },
   "outputs": [],
   "source": [
    "import torch\n",
    "import torchvision \n",
    "import torch.nn as nn\n",
    "import torch.nn.functional as F\n",
    "import torch.optim as optim\n",
    "import pickle\n",
    "import numpy as np\n",
    "import matplotlib.pyplot as plt\n",
    "import random\n",
    "import re\n",
    "from tqdm.notebook import trange, tqdm\n",
    "from sklearn import tree\n",
    "import pandas as pd"
   ]
  },
  {
   "cell_type": "code",
   "execution_count": 2,
   "id": "7631cc90",
   "metadata": {},
   "outputs": [],
   "source": [
    "data = pd.ExcelFile('data.xlsx')\n",
    "data= data.parse('Supplementary Data 1')\n",
    "data = data['Transcript']"
   ]
  },
  {
   "cell_type": "code",
   "execution_count": null,
   "id": "5df1abe1",
   "metadata": {},
   "outputs": [],
   "source": [
    "minlen = 5000\n",
    "for i in trange(len(data)):\n",
    "    if(len(data[i]) < minlen):\n",
    "        minlen = len(data[i])\n",
    "print(minlen)"
   ]
  },
  {
   "cell_type": "code",
   "execution_count": 27,
   "id": "372ed47c",
   "metadata": {},
   "outputs": [
    {
     "data": {
      "application/vnd.jupyter.widget-view+json": {
       "model_id": "f5baca4f0f214b3c8272ffa3f8863da4",
       "version_major": 2,
       "version_minor": 0
      },
      "text/plain": [
       "  0%|          | 0/20 [00:00<?, ?it/s]"
      ]
     },
     "metadata": {},
     "output_type": "display_data"
    },
    {
     "data": {
      "application/vnd.jupyter.widget-view+json": {
       "model_id": "2d82a29b947c4b8d92efbd432e340f03",
       "version_major": 2,
       "version_minor": 0
      },
      "text/plain": [
       "  0%|          | 0/4116 [00:00<?, ?it/s]"
      ]
     },
     "metadata": {},
     "output_type": "display_data"
    },
    {
     "data": {
      "application/vnd.jupyter.widget-view+json": {
       "model_id": "ded701d1381e4f2bbf4b27b7dde7f2c3",
       "version_major": 2,
       "version_minor": 0
      },
      "text/plain": [
       "  0%|          | 0/4116 [00:00<?, ?it/s]"
      ]
     },
     "metadata": {},
     "output_type": "display_data"
    },
    {
     "data": {
      "application/vnd.jupyter.widget-view+json": {
       "model_id": "d9046de7c16c4f67b907cc715666cbcb",
       "version_major": 2,
       "version_minor": 0
      },
      "text/plain": [
       "  0%|          | 0/4116 [00:00<?, ?it/s]"
      ]
     },
     "metadata": {},
     "output_type": "display_data"
    },
    {
     "data": {
      "application/vnd.jupyter.widget-view+json": {
       "model_id": "9af16434a26742fd9ecb1361292ea58b",
       "version_major": 2,
       "version_minor": 0
      },
      "text/plain": [
       "  0%|          | 0/4116 [00:00<?, ?it/s]"
      ]
     },
     "metadata": {},
     "output_type": "display_data"
    },
    {
     "data": {
      "application/vnd.jupyter.widget-view+json": {
       "model_id": "cea00eaede814702b57e8599f93dc647",
       "version_major": 2,
       "version_minor": 0
      },
      "text/plain": [
       "  0%|          | 0/4116 [00:00<?, ?it/s]"
      ]
     },
     "metadata": {},
     "output_type": "display_data"
    },
    {
     "data": {
      "application/vnd.jupyter.widget-view+json": {
       "model_id": "7192487289a547bfb745107322ff099d",
       "version_major": 2,
       "version_minor": 0
      },
      "text/plain": [
       "  0%|          | 0/4116 [00:00<?, ?it/s]"
      ]
     },
     "metadata": {},
     "output_type": "display_data"
    },
    {
     "data": {
      "application/vnd.jupyter.widget-view+json": {
       "model_id": "c9ca0382e20f49c4b0b9b4d1f6f25759",
       "version_major": 2,
       "version_minor": 0
      },
      "text/plain": [
       "  0%|          | 0/4116 [00:00<?, ?it/s]"
      ]
     },
     "metadata": {},
     "output_type": "display_data"
    },
    {
     "data": {
      "application/vnd.jupyter.widget-view+json": {
       "model_id": "bc43bd99464a4516bbd143f3d841c269",
       "version_major": 2,
       "version_minor": 0
      },
      "text/plain": [
       "  0%|          | 0/4116 [00:00<?, ?it/s]"
      ]
     },
     "metadata": {},
     "output_type": "display_data"
    },
    {
     "data": {
      "application/vnd.jupyter.widget-view+json": {
       "model_id": "4270558a01ba41bbbfeeeabc2f6114e7",
       "version_major": 2,
       "version_minor": 0
      },
      "text/plain": [
       "  0%|          | 0/4116 [00:00<?, ?it/s]"
      ]
     },
     "metadata": {},
     "output_type": "display_data"
    },
    {
     "data": {
      "application/vnd.jupyter.widget-view+json": {
       "model_id": "a51c1787488745c2a79a6aac10646e3e",
       "version_major": 2,
       "version_minor": 0
      },
      "text/plain": [
       "  0%|          | 0/4116 [00:00<?, ?it/s]"
      ]
     },
     "metadata": {},
     "output_type": "display_data"
    },
    {
     "data": {
      "application/vnd.jupyter.widget-view+json": {
       "model_id": "3884f37b95e3464cae7c06b3066c7fd0",
       "version_major": 2,
       "version_minor": 0
      },
      "text/plain": [
       "  0%|          | 0/4116 [00:00<?, ?it/s]"
      ]
     },
     "metadata": {},
     "output_type": "display_data"
    },
    {
     "data": {
      "application/vnd.jupyter.widget-view+json": {
       "model_id": "acefc365325e4573ae534d970eb8da5c",
       "version_major": 2,
       "version_minor": 0
      },
      "text/plain": [
       "  0%|          | 0/4116 [00:00<?, ?it/s]"
      ]
     },
     "metadata": {},
     "output_type": "display_data"
    },
    {
     "data": {
      "application/vnd.jupyter.widget-view+json": {
       "model_id": "965e100d88a14be98ba5ab94622bf55d",
       "version_major": 2,
       "version_minor": 0
      },
      "text/plain": [
       "  0%|          | 0/4116 [00:00<?, ?it/s]"
      ]
     },
     "metadata": {},
     "output_type": "display_data"
    },
    {
     "data": {
      "application/vnd.jupyter.widget-view+json": {
       "model_id": "44acf09681ec457ba6159308b7262e30",
       "version_major": 2,
       "version_minor": 0
      },
      "text/plain": [
       "  0%|          | 0/4116 [00:00<?, ?it/s]"
      ]
     },
     "metadata": {},
     "output_type": "display_data"
    },
    {
     "data": {
      "application/vnd.jupyter.widget-view+json": {
       "model_id": "99df30def187455cad74d05612a9b6c3",
       "version_major": 2,
       "version_minor": 0
      },
      "text/plain": [
       "  0%|          | 0/4116 [00:00<?, ?it/s]"
      ]
     },
     "metadata": {},
     "output_type": "display_data"
    },
    {
     "data": {
      "application/vnd.jupyter.widget-view+json": {
       "model_id": "035698b15d8a4bc69167914894e8527e",
       "version_major": 2,
       "version_minor": 0
      },
      "text/plain": [
       "  0%|          | 0/4116 [00:00<?, ?it/s]"
      ]
     },
     "metadata": {},
     "output_type": "display_data"
    },
    {
     "data": {
      "application/vnd.jupyter.widget-view+json": {
       "model_id": "590fe321f4184730830c4a236dac6000",
       "version_major": 2,
       "version_minor": 0
      },
      "text/plain": [
       "  0%|          | 0/4116 [00:00<?, ?it/s]"
      ]
     },
     "metadata": {},
     "output_type": "display_data"
    },
    {
     "data": {
      "application/vnd.jupyter.widget-view+json": {
       "model_id": "747b922d1eae4adca23c9fb03c71c8a5",
       "version_major": 2,
       "version_minor": 0
      },
      "text/plain": [
       "  0%|          | 0/4116 [00:00<?, ?it/s]"
      ]
     },
     "metadata": {},
     "output_type": "display_data"
    },
    {
     "data": {
      "application/vnd.jupyter.widget-view+json": {
       "model_id": "a6406d0e779f4547bd471af6bf9db4f6",
       "version_major": 2,
       "version_minor": 0
      },
      "text/plain": [
       "  0%|          | 0/4116 [00:00<?, ?it/s]"
      ]
     },
     "metadata": {},
     "output_type": "display_data"
    },
    {
     "data": {
      "application/vnd.jupyter.widget-view+json": {
       "model_id": "787443315a96460ba1cb2d4c0b42c59c",
       "version_major": 2,
       "version_minor": 0
      },
      "text/plain": [
       "  0%|          | 0/4116 [00:00<?, ?it/s]"
      ]
     },
     "metadata": {},
     "output_type": "display_data"
    }
   ],
   "source": [
    "strings = np.zeros((30,len(data)))\n",
    "for i1 in trange(30):\n",
    "    i = i1*10 + 10\n",
    "    for j in trange(len(data)):\n",
    "        reg = data[j][len(data[j])- i - 1:len(data[j])]\n",
    "        for k in range(len(data)):\n",
    "            strings[i1][j] += len(re.findall(reg,data[k][0:len(data[k]) - 500]))\n",
    "    with open('strings{}'.format(i + 10), 'wb') as f:\n",
    "        pickle.dump(strings, f)\n",
    "strings_expand = np.zeros((20,len(data)))\n",
    "for i1 in trange(20):\n",
    "    i = i1*10 + 300\n",
    "    for j in trange(len(data)):\n",
    "        reg = data[j][len(data[j])- i - 1:len(data[j])]\n",
    "        for k in range(len(data)):\n",
    "            strings_expand[i1][j] += len(re.findall(reg,data[k][0:len(data[k]) - 500]))\n",
    "    with open('strings_expand{}'.format(i + 300), 'wb') as f:\n",
    "        pickle.dump(strings_expand, f)\n",
    "reg = data[1119][len(data[1119])- 300 - 1:len(data[1119])]\n",
    "strings300_where = []\n",
    "for k in range(len(data)):\n",
    "    if(len(re.findall(reg,data[k][0:len(data[k]) - 300])) > 0):\n",
    "        strings300_where.append(k)\n",
    "with open('strings300_where', 'wb') as f:\n",
    "        pickle.dump(strings300_where, f)  "
   ]
  },
  {
   "cell_type": "code",
   "execution_count": 35,
   "id": "e62c1f47",
   "metadata": {},
   "outputs": [
    {
     "data": {
      "image/png": "[encoded data removed]",
      "text/plain": [
       "<Figure size 432x288 with 1 Axes>"
      ]
     },
     "metadata": {
      "needs_background": "light"
     },
     "output_type": "display_data"
    }
   ],
   "source": [
    "plt.hist(strings[29], bins= 10)\n",
    "plt.show()"
   ]
  },
  {
   "cell_type": "code",
   "execution_count": 36,
   "id": "38ff46aa",
   "metadata": {},
   "outputs": [
    {
     "data": {
      "image/png": "[encoded data removed]",
      "text/plain": [
       "<Figure size 432x288 with 1 Axes>"
      ]
     },
     "metadata": {
      "needs_background": "light"
     },
     "output_type": "display_data"
    }
   ],
   "source": [
    "plt.hist(strings_expand[19], bins= 10)\n",
    "plt.show()"
   ]
  },
  {
   "cell_type": "code",
   "execution_count": 11,
   "id": "0e8060e9",
   "metadata": {},
   "outputs": [],
   "source": [
    "X = []\n",
    "Y = []\n",
    "X_test = []\n",
    "Y_test = []"
   ]
  },
  {
   "cell_type": "code",
   "execution_count": 79,
   "id": "c6c13853",
   "metadata": {},
   "outputs": [],
   "source": [
    "def transform(x):\n",
    "    new_x = torch.zeros(len(x))\n",
    "    for i in range(len(x)):\n",
    "        if x[i] == 'A':\n",
    "            new_x[i] = 1\n",
    "        if x[i] == 'C':\n",
    "            new_x[i] = 2\n",
    "        if x[i] == 'G':\n",
    "            new_x[i] = -1\n",
    "        if x[i] == 'T':\n",
    "            new_x[i] = -2\n",
    "    return(new_x)"
   ]
  },
  {
   "cell_type": "code",
   "execution_count": 48,
   "id": "06ca1ded",
   "metadata": {},
   "outputs": [
    {
     "data": {
      "application/vnd.jupyter.widget-view+json": {
       "model_id": "ae624ae0931f4ba7b77fbffaba87bd80",
       "version_major": 2,
       "version_minor": 0
      },
      "text/plain": [
       "  0%|          | 0/4116 [00:00<?, ?it/s]"
      ]
     },
     "metadata": {},
     "output_type": "display_data"
    },
    {
     "data": {
      "application/vnd.jupyter.widget-view+json": {
       "model_id": "f21fa78c4e5d4347ab4a85e3b1210924",
       "version_major": 2,
       "version_minor": 0
      },
      "text/plain": [
       "  0%|          | 0/1646400 [00:00<?, ?it/s]"
      ]
     },
     "metadata": {},
     "output_type": "display_data"
    }
   ],
   "source": [
    "X = []\n",
    "Y = []\n",
    "for i in trange(len(data)):\n",
    "    for j in range(100):\n",
    "        k = np.random.randint(len(data[i]) - 600)\n",
    "        X.append(data[i][k+j:k+j+300])\n",
    "        Y.append(0)\n",
    "        k = np.random.randint(len(data[i]) - 600)\n",
    "        X.append(data[i][k+j:k+j+300])\n",
    "        Y.append(0)\n",
    "        k = np.random.randint(len(data[i]) - 600)\n",
    "        X.append(data[i][k+j:k+j+300])\n",
    "        Y.append(0)\n",
    "        X.append(data[i][len(data[i])-j -300 :len(data[i])-j])\n",
    "        Y.append(1)\n",
    "new_x_test = []\n",
    "for i in trange(len(X)):\n",
    "    new_x_test.append(transform(X[i]))"
   ]
  },
  {
   "cell_type": "code",
   "execution_count": null,
   "id": "a055433d",
   "metadata": {},
   "outputs": [],
   "source": [
    "new_x = []\n",
    "for i in trange(len(X)):\n",
    "    new_x.append(transform(X[i]))\n",
    "new_x_test = []\n",
    "for i in trange(len(X_test)):\n",
    "    new_x_test.append(transform(X_test[i]))"
   ]
  },
  {
   "cell_type": "code",
   "execution_count": 7,
   "id": "091ca549",
   "metadata": {},
   "outputs": [],
   "source": [
    "d = list(zip(new_x,Y))\n",
    "random.shuffle(d)\n",
    "with open('data', 'wb') as f:\n",
    "    pickle.dump(d, f)\n",
    "d = list(zip(new_x_test,Y))\n",
    "random.shuffle(d)\n",
    "with open('data_test', 'wb') as f:\n",
    "    pickle.dump(d, f)    "
   ]
  },
  {
   "cell_type": "code",
   "execution_count": 2,
   "id": "979cd191",
   "metadata": {},
   "outputs": [],
   "source": [
    "\n",
    "with open('data', 'rb') as f:\n",
    "    data = pickle.load(f)\n",
    "with open('data_test', 'rb') as f:\n",
    "    data_test = pickle.load(f)"
   ]
  },
  {
   "cell_type": "code",
   "execution_count": 9,
   "id": "84ce3509",
   "metadata": {},
   "outputs": [],
   "source": [
    "class SimpleNet(nn.Module):\n",
    "    def __init__(self):\n",
    "        super(SimpleNet, self).__init__()\n",
    "        self.fc0 = nn.Linear(300,100)\n",
    "        self.t1 = nn.Tanh()\n",
    "        self.fc1 = nn.Linear(100,20)\n",
    "        self.t2 = nn.Tanh() \n",
    "        self.fc2 = nn.Linear(20,2) \n",
    "    def forward(self, x):\n",
    "        x = self.fc0(x)\n",
    "        x = self.t1(x)\n",
    "        x = self.fc1(x)\n",
    "        x = self.t2(x)\n",
    "        x = self.fc2(x)\n",
    "        return F.log_softmax(x,dim = 0)"
   ]
  },
  {
   "cell_type": "code",
   "execution_count": 10,
   "id": "f462a5f6",
   "metadata": {},
   "outputs": [],
   "source": [
    "batch_size = 8\n",
    "train_loader = torch.utils.data.DataLoader(\n",
    "  data[0:len(data)*2/3],batch_size=batch_size, shuffle=True)\n",
    "test_loader = torch.utils.data.DataLoader(\n",
    "  data[len(data)*2/3:len(data)],batch_size=batch_size, shuffle=True)\n"
   ]
  },
  {
   "cell_type": "code",
   "execution_count": 11,
   "id": "d979617d",
   "metadata": {},
   "outputs": [],
   "source": [
    "net = SimpleNet() \n",
    "optimiser = torch.optim.Adam(net.parameters())\n",
    "def train(net,optimiser,n_epochs):\n",
    "    ans = []\n",
    "    for epoch in trange(n_epochs):\n",
    "        net.train()\n",
    "        for batch_idx, (data, target) in tqdm(enumerate(train_loader)):\n",
    "            optimiser.zero_grad()\n",
    "            output = net(data)\n",
    "            loss = F.nll_loss(output, target)\n",
    "            loss.backward()\n",
    "            optimiser.step()\n",
    "        net.eval()\n",
    "        correct = 0\n",
    "        test_loss = 0\n",
    "        with torch.no_grad():\n",
    "            for batch_idx, (data, target) in tqdm(enumerate(test_loader)):\n",
    "                output = net(data)\n",
    "                test_loss += F.nll_loss(output, target).item()\n",
    "                pred = output.data.max(1, keepdim=True)[1]\n",
    "                correct += pred.eq(target.data.view_as(pred)).sum()\n",
    "        print('Epoch {}, Accuracy {}'.format(epoch, 100. * correct / len(test_loader.dataset)))\n",
    "        ans.append(100. * correct / len(test_loader.dataset))\n",
    "    return net,ans"
   ]
  },
  {
   "cell_type": "code",
   "execution_count": 12,
   "id": "dd09fd73",
   "metadata": {},
   "outputs": [
    {
     "data": {
      "application/vnd.jupyter.widget-view+json": {
       "model_id": "b4ed39c76cc54f60a32f45d61e167d4f",
       "version_major": 2,
       "version_minor": 0
      },
      "text/plain": [
       "  0%|          | 0/15 [00:00<?, ?it/s]"
      ]
     },
     "metadata": {},
     "output_type": "display_data"
    },
    {
     "data": {
      "application/vnd.jupyter.widget-view+json": {
       "model_id": "32b2dfe347544570842fac938e5fd76d",
       "version_major": 2,
       "version_minor": 0
      },
      "text/plain": [
       "0it [00:00, ?it/s]"
      ]
     },
     "metadata": {},
     "output_type": "display_data"
    },
    {
     "data": {
      "application/vnd.jupyter.widget-view+json": {
       "model_id": "7de1f8e59c2e499eba593ece00554f9a",
       "version_major": 2,
       "version_minor": 0
      },
      "text/plain": [
       "0it [00:00, ?it/s]"
      ]
     },
     "metadata": {},
     "output_type": "display_data"
    },
    {
     "name": "stdout",
     "output_type": "stream",
     "text": [
      "Epoch 0, Accuracy 88\n"
     ]
    },
    {
     "data": {
      "application/vnd.jupyter.widget-view+json": {
       "model_id": "018f85279c9344218cf9a630d6a6de2e",
       "version_major": 2,
       "version_minor": 0
      },
      "text/plain": [
       "0it [00:00, ?it/s]"
      ]
     },
     "metadata": {},
     "output_type": "display_data"
    },
    {
     "data": {
      "application/vnd.jupyter.widget-view+json": {
       "model_id": "4df4d06155544c43ac69975a6ee3b56e",
       "version_major": 2,
       "version_minor": 0
      },
      "text/plain": [
       "0it [00:00, ?it/s]"
      ]
     },
     "metadata": {},
     "output_type": "display_data"
    },
    {
     "name": "stdout",
     "output_type": "stream",
     "text": [
      "Epoch 1, Accuracy 90\n"
     ]
    },
    {
     "data": {
      "application/vnd.jupyter.widget-view+json": {
       "model_id": "260931360ac74763a808ba85f56f09d0",
       "version_major": 2,
       "version_minor": 0
      },
      "text/plain": [
       "0it [00:00, ?it/s]"
      ]
     },
     "metadata": {},
     "output_type": "display_data"
    },
    {
     "data": {
      "application/vnd.jupyter.widget-view+json": {
       "model_id": "041742b236244fc29104b1f8120a36ec",
       "version_major": 2,
       "version_minor": 0
      },
      "text/plain": [
       "0it [00:00, ?it/s]"
      ]
     },
     "metadata": {},
     "output_type": "display_data"
    },
    {
     "name": "stdout",
     "output_type": "stream",
     "text": [
      "Epoch 2, Accuracy 91\n"
     ]
    },
    {
     "data": {
      "application/vnd.jupyter.widget-view+json": {
       "model_id": "e1c3546afb104ff19e798781696b2846",
       "version_major": 2,
       "version_minor": 0
      },
      "text/plain": [
       "0it [00:00, ?it/s]"
      ]
     },
     "metadata": {},
     "output_type": "display_data"
    },
    {
     "data": {
      "application/vnd.jupyter.widget-view+json": {
       "model_id": "796ead16d8f94c73acf93d56a9a56d46",
       "version_major": 2,
       "version_minor": 0
      },
      "text/plain": [
       "0it [00:00, ?it/s]"
      ]
     },
     "metadata": {},
     "output_type": "display_data"
    },
    {
     "name": "stdout",
     "output_type": "stream",
     "text": [
      "Epoch 3, Accuracy 91\n"
     ]
    },
    {
     "data": {
      "application/vnd.jupyter.widget-view+json": {
       "model_id": "5686abed628046d48e098971a5072896",
       "version_major": 2,
       "version_minor": 0
      },
      "text/plain": [
       "0it [00:00, ?it/s]"
      ]
     },
     "metadata": {},
     "output_type": "display_data"
    },
    {
     "data": {
      "application/vnd.jupyter.widget-view+json": {
       "model_id": "bf4cb85f65314e5a906cedc35830dd5d",
       "version_major": 2,
       "version_minor": 0
      },
      "text/plain": [
       "0it [00:00, ?it/s]"
      ]
     },
     "metadata": {},
     "output_type": "display_data"
    },
    {
     "name": "stdout",
     "output_type": "stream",
     "text": [
      "Epoch 4, Accuracy 92\n"
     ]
    },
    {
     "data": {
      "application/vnd.jupyter.widget-view+json": {
       "model_id": "d2f8a773dc704c43b1502337bc429486",
       "version_major": 2,
       "version_minor": 0
      },
      "text/plain": [
       "0it [00:00, ?it/s]"
      ]
     },
     "metadata": {},
     "output_type": "display_data"
    },
    {
     "data": {
      "application/vnd.jupyter.widget-view+json": {
       "model_id": "35f665ad64454f889431f1aa50701024",
       "version_major": 2,
       "version_minor": 0
      },
      "text/plain": [
       "0it [00:00, ?it/s]"
      ]
     },
     "metadata": {},
     "output_type": "display_data"
    },
    {
     "name": "stdout",
     "output_type": "stream",
     "text": [
      "Epoch 5, Accuracy 92\n"
     ]
    },
    {
     "data": {
      "application/vnd.jupyter.widget-view+json": {
       "model_id": "e9d9c8207f2d4717a343e0b277f97437",
       "version_major": 2,
       "version_minor": 0
      },
      "text/plain": [
       "0it [00:00, ?it/s]"
      ]
     },
     "metadata": {},
     "output_type": "display_data"
    },
    {
     "data": {
      "application/vnd.jupyter.widget-view+json": {
       "model_id": "0ce1d1da93bc45209ca6332dce454276",
       "version_major": 2,
       "version_minor": 0
      },
      "text/plain": [
       "0it [00:00, ?it/s]"
      ]
     },
     "metadata": {},
     "output_type": "display_data"
    },
    {
     "name": "stdout",
     "output_type": "stream",
     "text": [
      "Epoch 6, Accuracy 92\n"
     ]
    },
    {
     "data": {
      "application/vnd.jupyter.widget-view+json": {
       "model_id": "d06c09e0b972446a9cee37a27fec1a72",
       "version_major": 2,
       "version_minor": 0
      },
      "text/plain": [
       "0it [00:00, ?it/s]"
      ]
     },
     "metadata": {},
     "output_type": "display_data"
    },
    {
     "data": {
      "application/vnd.jupyter.widget-view+json": {
       "model_id": "20f00b30ad2546f0a24b9d56b98e9020",
       "version_major": 2,
       "version_minor": 0
      },
      "text/plain": [
       "0it [00:00, ?it/s]"
      ]
     },
     "metadata": {},
     "output_type": "display_data"
    },
    {
     "name": "stdout",
     "output_type": "stream",
     "text": [
      "Epoch 7, Accuracy 92\n"
     ]
    },
    {
     "data": {
      "application/vnd.jupyter.widget-view+json": {
       "model_id": "7a9dd274107f442e90021ee7f74b8102",
       "version_major": 2,
       "version_minor": 0
      },
      "text/plain": [
       "0it [00:00, ?it/s]"
      ]
     },
     "metadata": {},
     "output_type": "display_data"
    },
    {
     "data": {
      "application/vnd.jupyter.widget-view+json": {
       "model_id": "3c5e903870f94bf2ba70bdaa7d51e4f5",
       "version_major": 2,
       "version_minor": 0
      },
      "text/plain": [
       "0it [00:00, ?it/s]"
      ]
     },
     "metadata": {},
     "output_type": "display_data"
    },
    {
     "name": "stdout",
     "output_type": "stream",
     "text": [
      "Epoch 8, Accuracy 92\n"
     ]
    },
    {
     "data": {
      "application/vnd.jupyter.widget-view+json": {
       "model_id": "59c461f37faa4efe8f26b71d3957ae05",
       "version_major": 2,
       "version_minor": 0
      },
      "text/plain": [
       "0it [00:00, ?it/s]"
      ]
     },
     "metadata": {},
     "output_type": "display_data"
    },
    {
     "data": {
      "application/vnd.jupyter.widget-view+json": {
       "model_id": "003d7b2335074e45a765549122f84237",
       "version_major": 2,
       "version_minor": 0
      },
      "text/plain": [
       "0it [00:00, ?it/s]"
      ]
     },
     "metadata": {},
     "output_type": "display_data"
    },
    {
     "name": "stdout",
     "output_type": "stream",
     "text": [
      "Epoch 9, Accuracy 92\n"
     ]
    },
    {
     "data": {
      "application/vnd.jupyter.widget-view+json": {
       "model_id": "6b8d4a6f61d54c58aca2c1b3c06109cc",
       "version_major": 2,
       "version_minor": 0
      },
      "text/plain": [
       "0it [00:00, ?it/s]"
      ]
     },
     "metadata": {},
     "output_type": "display_data"
    },
    {
     "data": {
      "application/vnd.jupyter.widget-view+json": {
       "model_id": "6f3b668381a84d88a355a461bac8b424",
       "version_major": 2,
       "version_minor": 0
      },
      "text/plain": [
       "0it [00:00, ?it/s]"
      ]
     },
     "metadata": {},
     "output_type": "display_data"
    },
    {
     "name": "stdout",
     "output_type": "stream",
     "text": [
      "Epoch 10, Accuracy 92\n"
     ]
    },
    {
     "data": {
      "application/vnd.jupyter.widget-view+json": {
       "model_id": "e722307b075c4076b229fd427a8def13",
       "version_major": 2,
       "version_minor": 0
      },
      "text/plain": [
       "0it [00:00, ?it/s]"
      ]
     },
     "metadata": {},
     "output_type": "display_data"
    },
    {
     "data": {
      "application/vnd.jupyter.widget-view+json": {
       "model_id": "23dc71cd944f496fae0c9dc54693b54a",
       "version_major": 2,
       "version_minor": 0
      },
      "text/plain": [
       "0it [00:00, ?it/s]"
      ]
     },
     "metadata": {},
     "output_type": "display_data"
    },
    {
     "name": "stdout",
     "output_type": "stream",
     "text": [
      "Epoch 11, Accuracy 92\n"
     ]
    },
    {
     "data": {
      "application/vnd.jupyter.widget-view+json": {
       "model_id": "d95c4e2330104fd08b13b702ca548a66",
       "version_major": 2,
       "version_minor": 0
      },
      "text/plain": [
       "0it [00:00, ?it/s]"
      ]
     },
     "metadata": {},
     "output_type": "display_data"
    },
    {
     "data": {
      "application/vnd.jupyter.widget-view+json": {
       "model_id": "e5b3a3355301485d9dcb696202674779",
       "version_major": 2,
       "version_minor": 0
      },
      "text/plain": [
       "0it [00:00, ?it/s]"
      ]
     },
     "metadata": {},
     "output_type": "display_data"
    },
    {
     "name": "stdout",
     "output_type": "stream",
     "text": [
      "Epoch 12, Accuracy 92\n"
     ]
    },
    {
     "data": {
      "application/vnd.jupyter.widget-view+json": {
       "model_id": "dc0618add5674e4daa7a35b919594475",
       "version_major": 2,
       "version_minor": 0
      },
      "text/plain": [
       "0it [00:00, ?it/s]"
      ]
     },
     "metadata": {},
     "output_type": "display_data"
    },
    {
     "data": {
      "application/vnd.jupyter.widget-view+json": {
       "model_id": "11307e71227c419ca8ea66a47f5842ac",
       "version_major": 2,
       "version_minor": 0
      },
      "text/plain": [
       "0it [00:00, ?it/s]"
      ]
     },
     "metadata": {},
     "output_type": "display_data"
    },
    {
     "name": "stdout",
     "output_type": "stream",
     "text": [
      "Epoch 13, Accuracy 93\n"
     ]
    },
    {
     "data": {
      "application/vnd.jupyter.widget-view+json": {
       "model_id": "f6d1057f6c614f30b38c052f05e49e50",
       "version_major": 2,
       "version_minor": 0
      },
      "text/plain": [
       "0it [00:00, ?it/s]"
      ]
     },
     "metadata": {},
     "output_type": "display_data"
    },
    {
     "data": {
      "application/vnd.jupyter.widget-view+json": {
       "model_id": "1690a3d4b74f48ab91041c7ce0bf1582",
       "version_major": 2,
       "version_minor": 0
      },
      "text/plain": [
       "0it [00:00, ?it/s]"
      ]
     },
     "metadata": {},
     "output_type": "display_data"
    },
    {
     "name": "stdout",
     "output_type": "stream",
     "text": [
      "Epoch 14, Accuracy 93\n"
     ]
    }
   ],
   "source": [
    "net = SimpleNet() \n",
    "optimiser = torch.optim.Adam(net.parameters())\n",
    "net,ans = train(net,optimiser,15)"
   ]
  },
  {
   "cell_type": "code",
   "execution_count": 24,
   "id": "84def0a3",
   "metadata": {},
   "outputs": [],
   "source": [
    "test_loader = torch.utils.data.DataLoader(\n",
    "  data_test,batch_size=batch_size, shuffle=True)\n",
    "\n",
    "def eval(net,test_loader):\n",
    "    net.eval()\n",
    "    correct = 0\n",
    "    test_loss = 0\n",
    "    with torch.no_grad():\n",
    "            for batch_idx, (data, target) in tqdm(enumerate(test_loader)):\n",
    "                output = net(data)\n",
    "                test_loss += F.nll_loss(output, target).item()\n",
    "                pred = output.data.max(1, keepdim=True)[1]\n",
    "                correct += pred.eq(target.data.view_as(pred)).sum()\n",
    "    print('Eval, Accuracy {}'.format( 100. * correct / len(test_loader.dataset)))\n",
    "    return net,ans"
   ]
  },
  {
   "cell_type": "code",
   "execution_count": 25,
   "id": "91e27175",
   "metadata": {},
   "outputs": [
    {
     "data": {
      "application/vnd.jupyter.widget-view+json": {
       "model_id": "e44459affa864ec385574196de0da139",
       "version_major": 2,
       "version_minor": 0
      },
      "text/plain": [
       "0it [00:00, ?it/s]"
      ]
     },
     "metadata": {},
     "output_type": "display_data"
    },
    {
     "name": "stdout",
     "output_type": "stream",
     "text": [
      "Eval, Accuracy 75\n"
     ]
    }
   ],
   "source": [
    "net,ans = eval(net,test_loader)"
   ]
  },
  {
   "cell_type": "code",
   "execution_count": 40,
   "id": "e7d55d29",
   "metadata": {},
   "outputs": [
    {
     "data": {
      "text/plain": [
       "torch.Tensor"
      ]
     },
     "execution_count": 40,
     "metadata": {},
     "output_type": "execute_result"
    }
   ],
   "source": [
    "type(model_X_T[0])"
   ]
  },
  {
   "cell_type": "code",
   "execution_count": 42,
   "id": "febfba6e",
   "metadata": {},
   "outputs": [],
   "source": [
    "clf = tree.DecisionTreeClassifier()\n",
    "clf = clf.fit(np.array(model_X_T), np.array(model_Y))"
   ]
  },
  {
   "cell_type": "code",
   "execution_count": 80,
   "id": "bf9b73d5",
   "metadata": {},
   "outputs": [
    {
     "data": {
      "application/vnd.jupyter.widget-view+json": {
       "model_id": "720fa2e93e58491d87798b7608ccf7cf",
       "version_major": 2,
       "version_minor": 0
      },
      "text/plain": [
       "  0%|          | 0/4116 [00:00<?, ?it/s]"
      ]
     },
     "metadata": {},
     "output_type": "display_data"
    }
   ],
   "source": [
    "ans = np.zeros(len(data))\n",
    "for j in trange(len(data)):\n",
    "    Xj = data[j]\n",
    "    Xj = transform(Xj).numpy()\n",
    "    for i in range(len(data[j]) - 600):\n",
    "        X = Xj[i:i+300]\n",
    "        Y = 0\n",
    "        ans[j]+= (1 - clf.predict(np.array(X).reshape(1,300)))/(len(data[j])-600)\n",
    "    with open('clf_results', 'wb') as f:\n",
    "        pickle.dump(ans, f)\n",
    "    \n",
    "    \n"
   ]
  },
  {
   "cell_type": "code",
   "execution_count": 91,
   "id": "be5e7970",
   "metadata": {},
   "outputs": [],
   "source": [
    "true_yes = 0\n",
    "for j in range(len(data)):\n",
    "    X = data[j][len(data[j]) - 300:len(data[j])]\n",
    "    X = transform(X).numpy()\n",
    "    true_yes+=clf.predict(np.array(X).reshape(1,300))"
   ]
  },
  {
   "cell_type": "code",
   "execution_count": 82,
   "id": "b1396da9",
   "metadata": {},
   "outputs": [
    {
     "data": {
      "text/plain": [
       "0.956199852852809"
      ]
     },
     "execution_count": 82,
     "metadata": {},
     "output_type": "execute_result"
    }
   ],
   "source": [
    "print(np.mean(ans))"
   ]
  },
  {
   "cell_type": "code",
   "execution_count": 93,
   "id": "e8d8c2b8",
   "metadata": {},
   "outputs": [
    {
     "data": {
      "text/plain": [
       "array([0.97230321])"
      ]
     },
     "execution_count": 93,
     "metadata": {},
     "output_type": "execute_result"
    }
   ],
   "source": [
    "true_yes/len(data)"
   ]
  },
  {
   "cell_type": "code",
   "execution_count": 94,
   "id": "f443d333",
   "metadata": {},
   "outputs": [],
   "source": [
    "with open('clf', 'wb') as f:\n",
    "    pickle.dump(clf, f)\n",
    "with open(\"decision_trre.log\",\"w\") as f:\n",
    "    f.write(tree.export_text(clf,max_depth = 300))"
   ]
  }
 ],
 "metadata": {
  "kernelspec": {
   "display_name": "Python 3 (ipykernel)",
   "language": "python",
   "name": "python3"
  },
  "language_info": {
   "codemirror_mode": {
    "name": "ipython",
    "version": 3
   },
   "file_extension": ".py",
   "mimetype": "text/x-python",
   "name": "python",
   "nbconvert_exporter": "python",
   "pygments_lexer": "ipython3",
   "version": "3.7.10"
  }
 },
 "nbformat": 4,
 "nbformat_minor": 5
}
